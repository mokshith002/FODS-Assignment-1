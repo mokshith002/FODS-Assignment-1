{
  "cells": [
    {
      "cell_type": "markdown",
      "metadata": {},
      "source": [
        "# CS F320 Foundations of Data Science Assignment-1"
      ]
    },
    {
      "cell_type": "markdown",
      "metadata": {},
      "source": [
        "## 1-A"
      ]
    },
    {
      "cell_type": "markdown",
      "metadata": {},
      "source": [
        "Given, $s$ follows Beta distribution with $\\alpha, \\beta = (2, 2)$.\n",
        "Prior probability, $$ P(s) = Beta(s; 2, 2) $$"
      ]
    },
    {
      "cell_type": "markdown",
      "metadata": {},
      "source": [
        "After first survey, $m=40$, $l=10$.\n",
        "Posterior probability\n",
        "\n",
        "$$ P(s / D_1) = Beta(s; 42, 12) $$\n",
        "\n",
        "After second survey, $m=40+13$, $l=10+17$.\n",
        "Posterior probability\n",
        "\n",
        "$$ P(s / D_2) = Beta(s; 55, 29) $$\n",
        "\n",
        "After third survey, $m=40+13+70$, $l=10+17+30$.\n",
        "Posterior probability\n",
        "\n",
        "$$ P(s / D_3) = Beta(s; 125, 59) $$"
      ]
    },
    {
      "cell_type": "code",
      "execution_count": 2,
      "metadata": {
        "trusted": true
      },
      "outputs": [],
      "source": [
        "from scipy.stats import beta\n",
        "\n",
        "import matplotlib.pyplot as plt\n",
        "import numpy as np\n",
        "\n",
        "fig, ax = plt.subplots(1, 1)\n",
        "\n",
        "a, b = 2, 2\n",
        "\n",
        "x = np.linspace(beta.ppf(0, a, b),\n",
        "\n",
        "                beta.ppf(1, a, b), 100)\n",
        "\n",
        "ax.plot(x, beta.pdf(x, a, b), label='Prior')\n",
        "\n",
        "a, b = 42, 12\n",
        "\n",
        "x = np.linspace(beta.ppf(0, a, b),\n",
        "\n",
        "                beta.ppf(1, a, b), 100)\n",
        "\n",
        "ax.plot(x, beta.pdf(x, a, b), label='Posterior(first survey)')\n",
        "\n",
        "a, b = 55, 29\n",
        "\n",
        "x = np.linspace(beta.ppf(0, a, b),\n",
        "\n",
        "                beta.ppf(1, a, b), 100)\n",
        "\n",
        "ax.plot(x, beta.pdf(x, a, b), label='Posterior(second survey)')\n",
        "\n",
        "a, b = 125, 59\n",
        "\n",
        "x = np.linspace(beta.ppf(0, a, b),\n",
        "\n",
        "                beta.ppf(1, a, b), 100)\n",
        "\n",
        "ax.plot(x, beta.pdf(x, a, b), label='Posterior(third survey)')\n",
        "\n",
        "ax.set_xlabel('s')\n",
        "ax.set_ylabel('P(s)')\n",
        "ax.legend()\n",
        "plt.show()"
      ]
    }
  ],
  "metadata": {
    "kernelspec": {
      "display_name": "Python 3.9.12 ('base')",
      "language": "python",
      "name": "python3"
    },
    "language_info": {
      "codemirror_mode": {
        "name": "ipython",
        "version": 3
      },
      "file_extension": ".py",
      "mimetype": "text/x-python",
      "name": "python",
      "nbconvert_exporter": "python",
      "pygments_lexer": "ipython3",
      "version": "3.9.12"
    },
    "vscode": {
      "interpreter": {
        "hash": "70733801d654680555e21495962fe8de4fe5c1acef5bb8ce12597725a80744f6"
      }
    }
  },
  "nbformat": 4,
  "nbformat_minor": 4
}
