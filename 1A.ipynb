{
 "cells": [
  {
   "cell_type": "markdown",
   "metadata": {},
   "source": [
    "# Assignment 1-A"
   ]
  },
  {
   "cell_type": "markdown",
   "metadata": {},
   "source": [
    "We are given that the probability of a customer liking the new update of a software, $s$, follows a beta distribution with parameters ($\\alpha$, $\\beta$) = (2, 2). This will be our first prior distrubution."
   ]
  },
  {
   "cell_type": "code",
   "execution_count": null,
   "metadata": {},
   "outputs": [],
   "source": [
    "import matplotlib.pyplot as plt\n",
    "import scipy.stats as st\n",
    "import numpy as np\n",
    "\n",
    "s = np.linspace(0, 1.0, 100)\n",
    "y = st.beta.pdf(s, 2, 2)\n",
    "plt.title('Initial Prior Distribution of s')\n",
    "maxx = y.max()\n",
    "plt.plot(s, y)\n",
    "\n",
    "plt.show()"
   ]
  },
  {
   "cell_type": "markdown",
   "metadata": {},
   "source": [
    "Now, we are given that 50 customers were surveyed, and 40 of them liked the update. So, we now combine this survey data with out prior distribution data to obtain the posterior distribution of s.\n",
    "\n",
    "We know that given a beta distribution with parameters $\\alpha$ and $\\beta$, and in the set of observations $D$, $l$ observations of one type and $m$ observations of another type, the posterior distribution of a random variable $s$ is given by\n",
    "\n",
    "$P(s/D) = Beta(s, a + l, b + m)$"
   ]
  },
  {
   "cell_type": "code",
   "execution_count": null,
   "metadata": {},
   "outputs": [],
   "source": [
    "s = np.linspace(0, 1.0, 100)\n",
    "y = st.beta.pdf(s, 2 + 40, 2 + 10)\n",
    "plt.title(\"Likelihood function of s after first survey\")\n",
    "plt.plot(s, y)\n",
    "\n",
    "plt.show()"
   ]
  },
  {
   "cell_type": "markdown",
   "metadata": {},
   "source": [
    "It is then told that another survey was conducted in which 30 customers were surveyed, and 17 of them liked the update. Now, to find the posterior distribution after this second survey, we consider the previously calculated posterior distribution after the first survey as our prior distribution. This is done because the first survey conducted becomes part of the prior data that we hold, and we want to improvise our model based on the previously available data."
   ]
  },
  {
   "cell_type": "code",
   "execution_count": null,
   "metadata": {},
   "outputs": [],
   "source": [
    "s = np.linspace(0, 1.0, 100)\n",
    "y = st.beta.pdf(s, 42 + 17, 12 + 13)\n",
    "plt.title(\"Likelihood function of s after second survey\")\n",
    "plt.plot(s, y)\n",
    "\n",
    "plt.show()"
   ]
  },
  {
   "cell_type": "markdown",
   "metadata": {},
   "source": [
    "It is then told that another survey was conducted in which 100 customers were surveyed, and 70 of them liked the update. Again, to find the posterior distribution after this third survey, we consider the previously calculated posterior distribution after the second survey as our prior distribution."
   ]
  },
  {
   "cell_type": "code",
   "execution_count": null,
   "metadata": {},
   "outputs": [],
   "source": [
    "s = np.linspace(0, 1.0, 100)\n",
    "y = st.beta.pdf(s, 59 + 70, 25 + 30)\n",
    "plt.title(\"Likelihood function of s after third survey\")\n",
    "plt.plot(s, y)\n",
    "\n",
    "plt.show()"
   ]
  },
  {
   "cell_type": "code",
   "execution_count": null,
   "metadata": {},
   "outputs": [],
   "source": [
    "s = np.linspace(0, 1.0, 100)\n",
    "\n",
    "y0 = st.beta.pdf(s, 2, 2)\n",
    "y1 = st.beta.pdf(s, 2 + 40, 2 + 10)\n",
    "y2 = st.beta.pdf(s, 42 + 17, 12 + 13)\n",
    "y3 = st.beta.pdf(s, 59 + 70, 25 + 30)\n",
    "\n",
    "fig, ax = plt.subplots()\n",
    "ax.plot(s, y0, label ='Prior')\n",
    "ax.plot(s, y1, label ='After 1st survey')\n",
    "ax.plot(s, y2, label ='After 2nd survey')\n",
    "ax.plot(s, y3, label ='After 3rd survey')\n",
    "\n",
    "ax.legend()\n",
    "\n",
    "ax.set_xlabel(\"s\")\n",
    "ax.set_ylabel(\"P(s)\")\n",
    "\n",
    "plt.show()"
   ]
  }
 ],
 "metadata": {
  "kernelspec": {
   "display_name": "Python 3.8.10 64-bit",
   "language": "python",
   "name": "python3"
  },
  "language_info": {
   "codemirror_mode": {
    "name": "ipython",
    "version": 3
   },
   "file_extension": ".py",
   "mimetype": "text/x-python",
   "name": "python",
   "nbconvert_exporter": "python",
   "pygments_lexer": "ipython3",
   "version": "3.8.10"
  },
  "orig_nbformat": 4,
  "vscode": {
   "interpreter": {
    "hash": "916dbcbb3f70747c44a77c7bcd40155683ae19c65e1c03b4aa3499c5328201f1"
   }
  }
 },
 "nbformat": 4,
 "nbformat_minor": 2
}
