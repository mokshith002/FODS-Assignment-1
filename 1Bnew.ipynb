{
 "cells": [
  {
   "cell_type": "code",
   "execution_count": 276,
   "metadata": {},
   "outputs": [],
   "source": [
    "import pandas as pd\n",
    "import numpy as np\n",
    "import random\n",
    "import matplotlib.pyplot as plt\n",
    "from math import ceil"
   ]
  },
  {
   "cell_type": "code",
   "execution_count": 277,
   "metadata": {},
   "outputs": [],
   "source": [
    "data = pd.read_csv(\"fods_1.csv\").to_numpy()"
   ]
  },
  {
   "cell_type": "code",
   "execution_count": 278,
   "metadata": {},
   "outputs": [],
   "source": [
    "# training_data = data.sample(frac = 0.8)\n",
    "# test_data = data.drop(training_data.index)\n",
    "np.random.shuffle(data)\n",
    "N = data.shape[0]\n",
    "N_train = ceil(N * 0.8)\n",
    "N_test = N - N_train\n",
    "X_train = data[:N_train,0:2]\n",
    "y_train = data[:N_train,2]\n",
    "X_test = data[N_train:,0:2]\n",
    "y_test = data[N_train:,2]"
   ]
  },
  {
   "cell_type": "code",
   "execution_count": 284,
   "metadata": {},
   "outputs": [],
   "source": [
    "def genFeatureMatrix(X, degree):\n",
    "\n",
    "    mat = np.ones([1,len(X[0])])\n",
    "            \n",
    "    return mat"
   ]
  },
  {
   "cell_type": "code",
   "execution_count": 285,
   "metadata": {},
   "outputs": [
    {
     "ename": "ValueError",
     "evalue": "all the input arrays must have same number of dimensions, but the array at index 0 has 1 dimension(s) and the array at index 1 has 2 dimension(s)",
     "output_type": "error",
     "traceback": [
      "\u001b[1;31m---------------------------------------------------------------------------\u001b[0m",
      "\u001b[1;31mValueError\u001b[0m                                Traceback (most recent call last)",
      "Cell \u001b[1;32mIn [285], line 3\u001b[0m\n\u001b[0;32m      1\u001b[0m Y \u001b[39m=\u001b[39m y_train\u001b[39m.\u001b[39mT\n\u001b[1;32m----> 3\u001b[0m X \u001b[39m=\u001b[39m genFeatureMatrix(X_train, \u001b[39m2\u001b[39;49m)\u001b[39m.\u001b[39mT\n\u001b[0;32m      4\u001b[0m \u001b[39m# X = np.concatenate((np.ones([1, len(X[0])]), X), axis = 0)\u001b[39;00m\n\u001b[0;32m      6\u001b[0m W \u001b[39m=\u001b[39m np\u001b[39m.\u001b[39mzeros([\u001b[39mlen\u001b[39m(X), \u001b[39m1\u001b[39m])\n",
      "Cell \u001b[1;32mIn [284], line 9\u001b[0m, in \u001b[0;36mgenFeatureMatrix\u001b[1;34m(X, degree)\u001b[0m\n\u001b[0;32m      7\u001b[0m         X1new \u001b[39m=\u001b[39m (X[:,\u001b[39m0\u001b[39m] \u001b[39m*\u001b[39m\u001b[39m*\u001b[39m d1)\n\u001b[0;32m      8\u001b[0m         X2new \u001b[39m=\u001b[39m (X[:,\u001b[39m1\u001b[39m] \u001b[39m*\u001b[39m\u001b[39m*\u001b[39m d2)\n\u001b[1;32m----> 9\u001b[0m         mat \u001b[39m=\u001b[39m np\u001b[39m.\u001b[39;49mappend(mat, (X1new \u001b[39m*\u001b[39;49m X2new)\u001b[39m.\u001b[39;49mreshape(\u001b[39m1\u001b[39;49m, N_train), axis\u001b[39m=\u001b[39;49m\u001b[39m0\u001b[39;49m)\n\u001b[0;32m     11\u001b[0m \u001b[39mreturn\u001b[39;00m mat\n",
      "File \u001b[1;32m<__array_function__ internals>:180\u001b[0m, in \u001b[0;36mappend\u001b[1;34m(*args, **kwargs)\u001b[0m\n",
      "File \u001b[1;32mc:\\Users\\Sriram\\AppData\\Local\\Programs\\Python\\Python310\\lib\\site-packages\\numpy\\lib\\function_base.py:5444\u001b[0m, in \u001b[0;36mappend\u001b[1;34m(arr, values, axis)\u001b[0m\n\u001b[0;32m   5442\u001b[0m     values \u001b[39m=\u001b[39m ravel(values)\n\u001b[0;32m   5443\u001b[0m     axis \u001b[39m=\u001b[39m arr\u001b[39m.\u001b[39mndim\u001b[39m-\u001b[39m\u001b[39m1\u001b[39m\n\u001b[1;32m-> 5444\u001b[0m \u001b[39mreturn\u001b[39;00m concatenate((arr, values), axis\u001b[39m=\u001b[39;49maxis)\n",
      "File \u001b[1;32m<__array_function__ internals>:180\u001b[0m, in \u001b[0;36mconcatenate\u001b[1;34m(*args, **kwargs)\u001b[0m\n",
      "\u001b[1;31mValueError\u001b[0m: all the input arrays must have same number of dimensions, but the array at index 0 has 1 dimension(s) and the array at index 1 has 2 dimension(s)"
     ]
    }
   ],
   "source": [
    "Y = y_train.T\n",
    "\n",
    "X = genFeatureMatrix(X_train, 2).T\n",
    "# X = np.concatenate((np.ones([1, len(X[0])]), X), axis = 0)\n",
    "\n",
    "W = np.zeros([len(X), 1])\n",
    "\n",
    "Y.shape, X.shape, W.shape"
   ]
  },
  {
   "cell_type": "code",
   "execution_count": null,
   "metadata": {},
   "outputs": [],
   "source": [
    "def lossFunction(Y, X, W):\n",
    "    return 1 / (2 * len(X[0])) * np.sum(np.power((Y - W.T @ X), 2))"
   ]
  },
  {
   "cell_type": "code",
   "execution_count": null,
   "metadata": {},
   "outputs": [],
   "source": [
    "def gradientDescent(Y, X, W):\n",
    "    \n",
    "    alpha = 0.1\n",
    "    iterations = 1000\n",
    "    N = len(X[0])\n",
    "    cost = np.zeros(iterations)\n",
    "\n",
    "    for i in range(iterations):\n",
    "        W = W + (alpha / N)*((Y - W.T @ X) @ X.T).T\n",
    "        cost[i] = lossFunction(Y, X, W)\n",
    "    \n",
    "    return W, cost"
   ]
  },
  {
   "cell_type": "code",
   "execution_count": null,
   "metadata": {},
   "outputs": [
    {
     "data": {
      "text/plain": [
       "0.915997727803899"
      ]
     },
     "execution_count": 274,
     "metadata": {},
     "output_type": "execute_result"
    }
   ],
   "source": [
    "W_grad, cost_grad = gradientDescent(Y, X, W)\n",
    "cost_grad[len(cost_grad) - 1]"
   ]
  },
  {
   "cell_type": "code",
   "execution_count": null,
   "metadata": {},
   "outputs": [
    {
     "data": {
      "image/png": "[encoded data removed]",
      "text/plain": [
       "<Figure size 640x480 with 1 Axes>"
      ]
     },
     "metadata": {},
     "output_type": "display_data"
    }
   ],
   "source": [
    "grad_descent_graph = np.array([i for i in range (len(cost_grad))])\n",
    "plt.plot(grad_descent_graph, cost_grad)\n",
    "plt.show()"
   ]
  }
 ],
 "metadata": {
  "kernelspec": {
   "display_name": "Python 3.10.6 64-bit",
   "language": "python",
   "name": "python3"
  },
  "language_info": {
   "codemirror_mode": {
    "name": "ipython",
    "version": 3
   },
   "file_extension": ".py",
   "mimetype": "text/x-python",
   "name": "python",
   "nbconvert_exporter": "python",
   "pygments_lexer": "ipython3",
   "version": "3.10.6"
  },
  "orig_nbformat": 4,
  "vscode": {
   "interpreter": {
    "hash": "823369631fcf644bbd649ba0e2c92005e1c2d80e62c7cdf7550d6c1d51ddcadf"
   }
  }
 },
 "nbformat": 4,
 "nbformat_minor": 2
}
