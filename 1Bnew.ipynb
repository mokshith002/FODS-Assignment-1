{
 "cells": [
  {
   "cell_type": "code",
   "execution_count": 492,
   "metadata": {},
   "outputs": [],
   "source": [
    "import pandas as pd\n",
    "import numpy as np\n",
    "import random\n",
    "import matplotlib.pyplot as plt\n",
    "from math import ceil"
   ]
  },
  {
   "cell_type": "code",
   "execution_count": 493,
   "metadata": {},
   "outputs": [],
   "source": [
    "# data = pd.read_csv(\"fods_1.csv\").to_numpy()\n",
    "data = pd.read_csv(\"fods_1.csv\")"
   ]
  },
  {
   "cell_type": "code",
   "execution_count": 494,
   "metadata": {},
   "outputs": [
    {
     "name": "stdout",
     "output_type": "stream",
     "text": [
      "437 109\n"
     ]
    }
   ],
   "source": [
    "training_data = data.sample(frac = 0.8)\n",
    "test_data = data.drop(training_data.index)\n",
    "# np.random.shuffle(data)\n",
    "# N = data.shape[0]\n",
    "\n",
    "training_data = training_data.to_numpy()\n",
    "test_data = test_data.to_numpy()\n",
    "\n",
    "# N_train = ceil(N * 0.8)\n",
    "# N_test = N - N_train\n",
    "\n",
    "X_train = training_data[:, :2].T\n",
    "Y_train = training_data[:,2].T\n",
    "\n",
    "X_test = test_data[:,:2].T\n",
    "Y_test = test_data[:,2].T\n",
    "\n",
    "N_train = len(X_train[0])\n",
    "N_test = len(X_test[0])\n",
    "\n",
    "print(N_train, N_test)"
   ]
  },
  {
   "cell_type": "code",
   "execution_count": 495,
   "metadata": {},
   "outputs": [],
   "source": [
    "def normalize (X):\n",
    "\n",
    "    mean = np.array(np.mean(X[1:, :], axis = 1)).reshape([len(X) - 1, 1])\n",
    "    std = np.array(np.std(X[1:, :], axis = 1)).reshape([len(X) - 1, 1])\n",
    "\n",
    "    mean = np.concatenate((np.zeros([1,1]), mean), axis = 0)\n",
    "    std = np.concatenate((np.ones([1,1]), std), axis = 0)\n",
    "\n",
    "    mean = np.repeat(mean, len(X[0]), axis = 1)\n",
    "    std = np.repeat(std, len(X[0]), axis = 1)\n",
    "\n",
    "    X = (X - mean) / std\n",
    "\n",
    "    return X\n"
   ]
  },
  {
   "cell_type": "code",
   "execution_count": 496,
   "metadata": {},
   "outputs": [],
   "source": [
    "def generate_feature_matrix(X, deg):\n",
    "\n",
    "    mat = np.ones([1,len(X[0])])\n",
    "    for i in range (1, deg + 1):\n",
    "        for j in range(i+1):\n",
    "            k = i - j\n",
    "            newRow = np.array((X[0]**j) * (X[1]**k)).reshape([1, len(X[0])])\n",
    "            mat = np.concatenate((mat, newRow), axis = 0)\n",
    "            \n",
    "    return normalize(mat)\n",
    "    # return mat"
   ]
  },
  {
   "cell_type": "code",
   "execution_count": 497,
   "metadata": {},
   "outputs": [],
   "source": [
    "def loss_function(Y, X, W):\n",
    "    return np.sum(1 / (2 * len(X[0])) * np.power((Y - W.T @ X), 2))"
   ]
  },
  {
   "cell_type": "code",
   "execution_count": 498,
   "metadata": {},
   "outputs": [],
   "source": [
    "def gradient_descent(Y, X, W, alpha, iterations):\n",
    "    \n",
    "    N = len(X[0])\n",
    "    cost = np.zeros(iterations)\n",
    "\n",
    "    for i in range(iterations):\n",
    "        W = W + (alpha / N)*(X @ (Y - W.T @ X).T)\n",
    "        cost[i] = loss_function(Y, X, W)\n",
    "    \n",
    "    return W, cost"
   ]
  },
  {
   "cell_type": "code",
   "execution_count": 499,
   "metadata": {},
   "outputs": [],
   "source": [
    "def training_polynomial_regression(Y, X):\n",
    "\n",
    "    error_history = np.zeros([10, 1])\n",
    "    W_history = []\n",
    "\n",
    "    for i in range(10):\n",
    "\n",
    "        count = (i + 1) * (i + 2) / 2\n",
    "        count = int(count)\n",
    "\n",
    "        _X = X[:count, :]\n",
    "        W = np.zeros([count, 1])\n",
    "\n",
    "        iterations = 10000\n",
    "        # alpha_array = []\n",
    "        # final_cost_array = []\n",
    "\n",
    "        # alpha = 0.1\n",
    "\n",
    "        # while(alpha >= 0.001):\n",
    "\n",
    "        #     W_grad, cost_grad = gradient_descent(Y, _X, W, alpha, iterations)\n",
    "        #     rounded_cost = float(\"{:.4f}\".format(cost_grad[len(cost_grad) - 1]))\n",
    "        #     alpha_array.append(alpha)\n",
    "        #     final_cost_array.append(rounded_cost)\n",
    "\n",
    "        #     alpha -= 1e-3\n",
    "        \n",
    "        alpha = 0.04\n",
    "\n",
    "        W_grad, cost_grad = gradient_descent(Y, _X, W, alpha, iterations)\n",
    "\n",
    "        grad_descent_graph = np.array([i for i in range (len(cost_grad))])\n",
    "\n",
    "        title_string = \"Polynomial Regression for degree \" + str(i)\n",
    "        rounded_cost = float(\"{:.4f}\".format(cost_grad[len(cost_grad) - 1]))\n",
    "\n",
    "        error_history[i][0] = rounded_cost \n",
    "        # W_history[i] = W_history[i].reshape([1, len(W_grad)])\n",
    "        W_history.append(W_grad.reshape([len(W_grad)]))\n",
    "\n",
    "        plt.plot(grad_descent_graph, cost_grad)\n",
    "        plt.title(title_string)\n",
    "        plt.xlabel(\"Iterations\")\n",
    "        plt.ylabel(\"Error\")\n",
    "        # plt.show()\n",
    "\n",
    "        # plt.plot(alpha_array, final_cost_array)\n",
    "        # plt.show()\n",
    "\n",
    "    return error_history, W_history"
   ]
  },
  {
   "cell_type": "code",
   "execution_count": 500,
   "metadata": {},
   "outputs": [],
   "source": [
    "def testing_polynomial_regression(Y, X, W):\n",
    "\n",
    "    error_history = np.zeros([10, 1])\n",
    "\n",
    "    for i in range(10):\n",
    "\n",
    "        count = (i + 1) * (i + 2) / 2\n",
    "        count = int(count)\n",
    "\n",
    "        _X = X[:count, :]\n",
    "\n",
    "        # print(type(W[i]))\n",
    "        \n",
    "        error_history[i][0] = loss_function(Y, _X, W[i])\n",
    "    \n",
    "    return error_history"
   ]
  },
  {
   "cell_type": "code",
   "execution_count": 501,
   "metadata": {},
   "outputs": [
    {
     "data": {
      "image/png": "[encoded data removed]",
      "text/plain": [
       "<Figure size 640x480 with 1 Axes>"
      ]
     },
     "metadata": {},
     "output_type": "display_data"
    }
   ],
   "source": [
    "X = generate_feature_matrix(X_train, 9)\n",
    "training_error, W = training_polynomial_regression(Y_train, X)"
   ]
  },
  {
   "cell_type": "code",
   "execution_count": 502,
   "metadata": {},
   "outputs": [
    {
     "data": {
      "image/png": "[encoded data removed]",
      "text/plain": [
       "<Figure size 640x480 with 1 Axes>"
      ]
     },
     "metadata": {},
     "output_type": "display_data"
    }
   ],
   "source": [
    "X = generate_feature_matrix(X_test, 9)\n",
    "W = [i.reshape([len(i), 1]) for i in W]\n",
    "testing_error = testing_polynomial_regression(Y_test, X, W)\n",
    "\n",
    "rounded_test_error = [float(\"{:.3f}\".format(testing_error[i][0])) for i in range(10)]\n",
    "\n",
    "plt.plot([i for i in range(10)], rounded_test_error, marker = 'o')\n",
    "plt.xticks([i for i  in range(10)])\n",
    "plt.xlabel(\"Degree\")\n",
    "plt.ylabel(\"Testing Error\")\n",
    "plt.show()"
   ]
  },
  {
   "cell_type": "code",
   "execution_count": 503,
   "metadata": {},
   "outputs": [],
   "source": [
    "degrees = np.array([i for i in range(10)]).reshape([10,1])\n",
    "polynomial_regression_result = np.concatenate((degrees, training_error, testing_error), axis = 1)"
   ]
  },
  {
   "cell_type": "code",
   "execution_count": 504,
   "metadata": {},
   "outputs": [
    {
     "data": {
      "text/html": [
       "<div>\n",
       "<style scoped>\n",
       "    .dataframe tbody tr th:only-of-type {\n",
       "        vertical-align: middle;\n",
       "    }\n",
       "\n",
       "    .dataframe tbody tr th {\n",
       "        vertical-align: top;\n",
       "    }\n",
       "\n",
       "    .dataframe thead th {\n",
       "        text-align: right;\n",
       "    }\n",
       "</style>\n",
       "<table border=\"1\" class=\"dataframe\">\n",
       "  <thead>\n",
       "    <tr style=\"text-align: right;\">\n",
       "      <th></th>\n",
       "      <th>Degree</th>\n",
       "      <th>Training Error</th>\n",
       "      <th>Testing Error</th>\n",
       "    </tr>\n",
       "  </thead>\n",
       "  <tbody>\n",
       "    <tr>\n",
       "      <th>0</th>\n",
       "      <td>0.0</td>\n",
       "      <td>1.3695</td>\n",
       "      <td>1.442030</td>\n",
       "    </tr>\n",
       "    <tr>\n",
       "      <th>1</th>\n",
       "      <td>1.0</td>\n",
       "      <td>0.8666</td>\n",
       "      <td>1.101174</td>\n",
       "    </tr>\n",
       "    <tr>\n",
       "      <th>2</th>\n",
       "      <td>2.0</td>\n",
       "      <td>0.8361</td>\n",
       "      <td>1.067165</td>\n",
       "    </tr>\n",
       "    <tr>\n",
       "      <th>3</th>\n",
       "      <td>3.0</td>\n",
       "      <td>0.8277</td>\n",
       "      <td>1.066860</td>\n",
       "    </tr>\n",
       "    <tr>\n",
       "      <th>4</th>\n",
       "      <td>4.0</td>\n",
       "      <td>0.8240</td>\n",
       "      <td>1.068683</td>\n",
       "    </tr>\n",
       "    <tr>\n",
       "      <th>5</th>\n",
       "      <td>5.0</td>\n",
       "      <td>0.8206</td>\n",
       "      <td>1.186131</td>\n",
       "    </tr>\n",
       "    <tr>\n",
       "      <th>6</th>\n",
       "      <td>6.0</td>\n",
       "      <td>0.8191</td>\n",
       "      <td>1.226435</td>\n",
       "    </tr>\n",
       "    <tr>\n",
       "      <th>7</th>\n",
       "      <td>7.0</td>\n",
       "      <td>0.8175</td>\n",
       "      <td>1.670797</td>\n",
       "    </tr>\n",
       "    <tr>\n",
       "      <th>8</th>\n",
       "      <td>8.0</td>\n",
       "      <td>0.8157</td>\n",
       "      <td>1.740331</td>\n",
       "    </tr>\n",
       "    <tr>\n",
       "      <th>9</th>\n",
       "      <td>9.0</td>\n",
       "      <td>0.8137</td>\n",
       "      <td>2.412551</td>\n",
       "    </tr>\n",
       "  </tbody>\n",
       "</table>\n",
       "</div>"
      ],
      "text/plain": [
       "   Degree  Training Error  Testing Error\n",
       "0     0.0          1.3695       1.442030\n",
       "1     1.0          0.8666       1.101174\n",
       "2     2.0          0.8361       1.067165\n",
       "3     3.0          0.8277       1.066860\n",
       "4     4.0          0.8240       1.068683\n",
       "5     5.0          0.8206       1.186131\n",
       "6     6.0          0.8191       1.226435\n",
       "7     7.0          0.8175       1.670797\n",
       "8     8.0          0.8157       1.740331\n",
       "9     9.0          0.8137       2.412551"
      ]
     },
     "execution_count": 504,
     "metadata": {},
     "output_type": "execute_result"
    }
   ],
   "source": [
    "polynomial_regression_table = pd.DataFrame(polynomial_regression_result, columns = ['Degree', 'Training Error', 'Testing Error'])\n",
    "polynomial_regression_table"
   ]
  }
 ],
 "metadata": {
  "kernelspec": {
   "display_name": "Python 3.10.6 64-bit",
   "language": "python",
   "name": "python3"
  },
  "language_info": {
   "codemirror_mode": {
    "name": "ipython",
    "version": 3
   },
   "file_extension": ".py",
   "mimetype": "text/x-python",
   "name": "python",
   "nbconvert_exporter": "python",
   "pygments_lexer": "ipython3",
   "version": "3.10.6"
  },
  "vscode": {
   "interpreter": {
    "hash": "823369631fcf644bbd649ba0e2c92005e1c2d80e62c7cdf7550d6c1d51ddcadf"
   }
  }
 },
 "nbformat": 4,
 "nbformat_minor": 2
}
