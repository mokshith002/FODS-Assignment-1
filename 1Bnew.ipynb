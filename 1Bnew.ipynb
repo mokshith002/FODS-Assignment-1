{
 "cells": [
  {
   "cell_type": "code",
   "execution_count": 1,
   "metadata": {},
   "outputs": [],
   "source": [
    "import pandas as pd\n",
    "import numpy as np\n",
    "import random\n",
    "import matplotlib.pyplot as plt\n",
    "from math import ceil"
   ]
  },
  {
   "cell_type": "code",
   "execution_count": 2,
   "metadata": {},
   "outputs": [],
   "source": [
    "# data = pd.read_csv(\"fods_1.csv\").to_numpy()\n",
    "data = pd.read_csv(\"fods_1.csv\")"
   ]
  },
  {
   "cell_type": "code",
   "execution_count": 3,
   "metadata": {},
   "outputs": [
    {
     "name": "stdout",
     "output_type": "stream",
     "text": [
      "437 109\n"
     ]
    }
   ],
   "source": [
    "training_data = data.sample(frac = 0.8)\n",
    "test_data = data.drop(training_data.index)\n",
    "# np.random.shuffle(data)\n",
    "# N = data.shape[0]\n",
    "\n",
    "training_data = training_data.to_numpy()\n",
    "test_data = test_data.to_numpy()\n",
    "\n",
    "# N_train = ceil(N * 0.8)\n",
    "# N_test = N - N_train\n",
    "\n",
    "X_train = training_data[:, :2].T\n",
    "Y_train = training_data[:,2].T\n",
    "\n",
    "X_test = test_data[:,:2].T\n",
    "Y_test = test_data[:,2].T\n",
    "\n",
    "N_train = len(X_train[0])\n",
    "N_test = len(X_test[0])\n",
    "\n",
    "print(N_train, N_test)"
   ]
  },
  {
   "cell_type": "markdown",
   "metadata": {},
   "source": [
    "# POLYNOMIAL REGRESSION"
   ]
  },
  {
   "cell_type": "code",
   "execution_count": 4,
   "metadata": {},
   "outputs": [],
   "source": [
    "def normalize (X):\n",
    "\n",
    "    mean = np.array(np.mean(X[1:, :], axis = 1)).reshape([len(X) - 1, 1])\n",
    "    std = np.array(np.std(X[1:, :], axis = 1)).reshape([len(X) - 1, 1])\n",
    "\n",
    "    mean = np.concatenate((np.zeros([1,1]), mean), axis = 0)\n",
    "    std = np.concatenate((np.ones([1,1]), std), axis = 0)\n",
    "\n",
    "    mean = np.repeat(mean, len(X[0]), axis = 1)\n",
    "    std = np.repeat(std, len(X[0]), axis = 1)\n",
    "\n",
    "    X = (X - mean) / std\n",
    "\n",
    "    return X\n"
   ]
  },
  {
   "cell_type": "code",
   "execution_count": 5,
   "metadata": {},
   "outputs": [],
   "source": [
    "def normalize_target(Y):\n",
    "\n",
    "    mean = np.array(np.mean(Y)).reshape(1,1)\n",
    "    std = np.std(Y)\n",
    "\n",
    "    # print(Y.shape)\n",
    "\n",
    "    mean = np.repeat(mean, len(Y), axis = 1)\n",
    "\n",
    "    Y = (1 / std) * (Y - mean)\n",
    "\n",
    "    return Y"
   ]
  },
  {
   "cell_type": "code",
   "execution_count": 6,
   "metadata": {},
   "outputs": [],
   "source": [
    "def generate_feature_matrix(X, deg):\n",
    "\n",
    "    mat = np.ones([1,len(X[0])])\n",
    "    for i in range (1, deg + 1):\n",
    "        for j in range(i+1):\n",
    "            k = i - j\n",
    "            newRow = np.array((X[0]**j) * (X[1]**k)).reshape([1, len(X[0])])\n",
    "            mat = np.concatenate((mat, newRow), axis = 0)\n",
    "            \n",
    "    return normalize(mat)\n",
    "    # return mat"
   ]
  },
  {
   "cell_type": "code",
   "execution_count": 7,
   "metadata": {},
   "outputs": [],
   "source": [
    "def loss_function(Y, X, W):\n",
    "    return np.sum(1 / (2 * len(X[0])) * np.power((Y - W.T @ X), 2))"
   ]
  },
  {
   "cell_type": "code",
   "execution_count": 8,
   "metadata": {},
   "outputs": [],
   "source": [
    "def gradient_descent(Y, X, W, alpha, iterations):\n",
    "    \n",
    "    N = len(X[0])\n",
    "    cost = np.zeros(iterations)\n",
    "\n",
    "    for i in range(iterations):\n",
    "        W = W + (alpha / N)*(X @ (Y - W.T @ X).T)\n",
    "        cost[i] = loss_function(Y, X, W)\n",
    "    \n",
    "    return W, cost"
   ]
  },
  {
   "cell_type": "code",
   "execution_count": 9,
   "metadata": {},
   "outputs": [],
   "source": [
    "def stochastic_descent(Y, X, W, alpha, iterations):\n",
    "\n",
    "    N = len(X[0])\n",
    "    M = len(X)\n",
    "    cost = np.zeros(iterations)\n",
    "\n",
    "    for i in range(iterations):\n",
    "\n",
    "        index = random.randint(0, N - 1)\n",
    "        Xi = X[:, index].reshape([M, 1])\n",
    "        Yi = Y[index].reshape([1, 1])\n",
    "\n",
    "        W = W + (alpha / N) * (Xi @ (Yi - W.T @ Xi).T)\n",
    "        cost[i] = loss_function(Y, X, W)\n",
    "\n",
    "    return W, cost"
   ]
  },
  {
   "cell_type": "code",
   "execution_count": 10,
   "metadata": {},
   "outputs": [],
   "source": [
    "def training_polynomial_regression(Y, X, descent_type):\n",
    "\n",
    "    error_history = np.zeros([10, 1])\n",
    "    W_history = []\n",
    "\n",
    "    # plt.title(\"Polynomial regression\")\n",
    "    # plt.xlabel(\"Iterations\")\n",
    "    # plt.ylabel(\"Error\")\n",
    "\n",
    "    for i in range(10):\n",
    "\n",
    "        count = (i + 1) * (i + 2) / 2\n",
    "        count = int(count)\n",
    "\n",
    "        _X = X[:count, :]\n",
    "        W = np.zeros([count, 1])\n",
    "\n",
    "        iterations = 100000\n",
    "        # alpha_array = []\n",
    "        # final_cost_array = []\n",
    "\n",
    "        alpha = 0.04\n",
    "\n",
    "        # while(alpha >= 0.001):\n",
    "\n",
    "        #     W_grad, cost_grad = descent_type(Y, _X, W, alpha, iterations)\n",
    "        #     rounded_cost = float(\"{:.4f}\".format(cost_grad[len(cost_grad) - 1]))\n",
    "        #     alpha_array.append(alpha)\n",
    "        #     final_cost_array.append(rounded_cost)\n",
    "\n",
    "        #     alpha -= 1e-3\n",
    "        \n",
    "        # plt.plot(alpha_array, )\n",
    "\n",
    "        W_desc, cost_desc = descent_type(Y, _X, W, alpha, iterations)\n",
    "\n",
    "        grad_descent_graph = np.array([i for i in range (len(cost_desc))])\n",
    "\n",
    "        # title_string = \"Polynomial Regression for degree \" + str(i)\n",
    "        rounded_cost = float(\"{:.4f}\".format(cost_desc[len(cost_desc) - 1]))\n",
    "\n",
    "        error_history[i][0] = rounded_cost \n",
    "        # W_history[i] = W_history[i].reshape([1, len(W_desc)])\n",
    "        W_history.append(W_desc.reshape([len(W_desc)]))\n",
    "\n",
    "        plt.plot(grad_descent_graph, cost_desc)\n",
    "        \n",
    "        # plt.show()\n",
    "\n",
    "        # plt.plot(alpha_array, final_cost_array)\n",
    "        # plt.show()\n",
    "    \n",
    "    plt.show()\n",
    "\n",
    "    return error_history, W_history"
   ]
  },
  {
   "cell_type": "code",
   "execution_count": 11,
   "metadata": {},
   "outputs": [],
   "source": [
    "def testing_polynomial_regression(Y, X, W):\n",
    "\n",
    "    error_history = np.zeros([10, 1])\n",
    "\n",
    "    for i in range(10):\n",
    "\n",
    "        count = (i + 1) * (i + 2) / 2\n",
    "        count = int(count)\n",
    "\n",
    "        _X = X[:count, :]\n",
    "        \n",
    "        error_history[i][0] = loss_function(Y, _X, W[i])\n",
    "    \n",
    "    return error_history"
   ]
  },
  {
   "cell_type": "code",
   "execution_count": 12,
   "metadata": {},
   "outputs": [
    {
     "data": {
      "image/png": "[encoded data removed]",
      "text/plain": [
       "<Figure size 640x480 with 1 Axes>"
      ]
     },
     "metadata": {},
     "output_type": "display_data"
    },
    {
     "data": {
      "image/png": "[encoded data removed]",
      "text/plain": [
       "<Figure size 640x480 with 1 Axes>"
      ]
     },
     "metadata": {},
     "output_type": "display_data"
    }
   ],
   "source": [
    "X = generate_feature_matrix(X_train, 9)\n",
    "training_error_gradient, W_gradient = training_polynomial_regression(Y_train, X, gradient_descent)\n",
    "training_error_stochastic, W_stochastic = training_polynomial_regression(Y_train, X, stochastic_descent)"
   ]
  },
  {
   "cell_type": "code",
   "execution_count": 13,
   "metadata": {},
   "outputs": [
    {
     "data": {
      "image/png": "[encoded data removed]",
      "text/plain": [
       "<Figure size 640x480 with 1 Axes>"
      ]
     },
     "metadata": {},
     "output_type": "display_data"
    }
   ],
   "source": [
    "X = generate_feature_matrix(X_test, 9)\n",
    "W = [i.reshape([len(i), 1]) for i in W_gradient]\n",
    "testing_error_gradient = testing_polynomial_regression(Y_test, X, W)\n",
    "\n",
    "rounded_test_error = [float(\"{:.3f}\".format(testing_error_gradient[i][0])) for i in range(10)]\n",
    "\n",
    "plt.plot([i for i in range(10)], rounded_test_error, marker = 'o')\n",
    "plt.xticks([i for i  in range(10)])\n",
    "plt.xlabel(\"Degree\")\n",
    "plt.ylabel(\"Testing Error\")\n",
    "plt.title(\"Gradient Descent Error\")\n",
    "plt.show()"
   ]
  },
  {
   "cell_type": "code",
   "execution_count": 14,
   "metadata": {},
   "outputs": [
    {
     "data": {
      "image/png": "[encoded data removed]",
      "text/plain": [
       "<Figure size 640x480 with 1 Axes>"
      ]
     },
     "metadata": {},
     "output_type": "display_data"
    }
   ],
   "source": [
    "W = [i.reshape([len(i), 1]) for i in W_stochastic]\n",
    "testing_error_stochastic = testing_polynomial_regression(Y_test, X, W)\n",
    "\n",
    "rounded_test_error = [float(\"{:.3f}\".format(testing_error_stochastic[i][0])) for i in range(10)]\n",
    "\n",
    "plt.plot([i for i in range(10)], rounded_test_error, marker = 'o')\n",
    "plt.xticks([i for i  in range(10)])\n",
    "plt.xlabel(\"Degree\")\n",
    "plt.ylabel(\"Testing Error\")\n",
    "plt.title(\"Stochastic Descent Error\")\n",
    "plt.show()"
   ]
  },
  {
   "cell_type": "code",
   "execution_count": 15,
   "metadata": {},
   "outputs": [],
   "source": [
    "degrees = np.array([i for i in range(10)]).reshape([10,1])\n",
    "polynomial_regression_result = np.concatenate((degrees, training_error_gradient, training_error_stochastic, testing_error_gradient, testing_error_stochastic), axis = 1)"
   ]
  },
  {
   "cell_type": "code",
   "execution_count": 16,
   "metadata": {},
   "outputs": [
    {
     "data": {
      "text/html": [
       "<div>\n",
       "<style scoped>\n",
       "    .dataframe tbody tr th:only-of-type {\n",
       "        vertical-align: middle;\n",
       "    }\n",
       "\n",
       "    .dataframe tbody tr th {\n",
       "        vertical-align: top;\n",
       "    }\n",
       "\n",
       "    .dataframe thead th {\n",
       "        text-align: right;\n",
       "    }\n",
       "</style>\n",
       "<table border=\"1\" class=\"dataframe\">\n",
       "  <thead>\n",
       "    <tr style=\"text-align: right;\">\n",
       "      <th></th>\n",
       "      <th>Degree</th>\n",
       "      <th>Training Error (Gradient)</th>\n",
       "      <th>Training Error (Stochastic)</th>\n",
       "      <th>Testing Error (Gradient)</th>\n",
       "      <th>Testing Error (Stochastic)</th>\n",
       "    </tr>\n",
       "  </thead>\n",
       "  <tbody>\n",
       "    <tr>\n",
       "      <th>0</th>\n",
       "      <td>0.0</td>\n",
       "      <td>1.4017</td>\n",
       "      <td>1.4017</td>\n",
       "      <td>1.313192</td>\n",
       "      <td>1.313154</td>\n",
       "    </tr>\n",
       "    <tr>\n",
       "      <th>1</th>\n",
       "      <td>1.0</td>\n",
       "      <td>0.9127</td>\n",
       "      <td>0.9127</td>\n",
       "      <td>0.936744</td>\n",
       "      <td>0.935517</td>\n",
       "    </tr>\n",
       "    <tr>\n",
       "      <th>2</th>\n",
       "      <td>2.0</td>\n",
       "      <td>0.8673</td>\n",
       "      <td>0.9084</td>\n",
       "      <td>0.933474</td>\n",
       "      <td>0.927099</td>\n",
       "    </tr>\n",
       "    <tr>\n",
       "      <th>3</th>\n",
       "      <td>3.0</td>\n",
       "      <td>0.8537</td>\n",
       "      <td>0.8773</td>\n",
       "      <td>0.941261</td>\n",
       "      <td>0.931893</td>\n",
       "    </tr>\n",
       "    <tr>\n",
       "      <th>4</th>\n",
       "      <td>4.0</td>\n",
       "      <td>0.8513</td>\n",
       "      <td>0.8694</td>\n",
       "      <td>0.939848</td>\n",
       "      <td>0.937026</td>\n",
       "    </tr>\n",
       "    <tr>\n",
       "      <th>5</th>\n",
       "      <td>5.0</td>\n",
       "      <td>0.8445</td>\n",
       "      <td>0.8708</td>\n",
       "      <td>0.946456</td>\n",
       "      <td>0.940419</td>\n",
       "    </tr>\n",
       "    <tr>\n",
       "      <th>6</th>\n",
       "      <td>6.0</td>\n",
       "      <td>0.8383</td>\n",
       "      <td>0.8713</td>\n",
       "      <td>1.060232</td>\n",
       "      <td>0.950534</td>\n",
       "    </tr>\n",
       "    <tr>\n",
       "      <th>7</th>\n",
       "      <td>7.0</td>\n",
       "      <td>0.8328</td>\n",
       "      <td>0.8700</td>\n",
       "      <td>1.742837</td>\n",
       "      <td>0.971377</td>\n",
       "    </tr>\n",
       "    <tr>\n",
       "      <th>8</th>\n",
       "      <td>8.0</td>\n",
       "      <td>0.8284</td>\n",
       "      <td>0.8694</td>\n",
       "      <td>3.721790</td>\n",
       "      <td>0.986965</td>\n",
       "    </tr>\n",
       "    <tr>\n",
       "      <th>9</th>\n",
       "      <td>9.0</td>\n",
       "      <td>0.8252</td>\n",
       "      <td>0.8684</td>\n",
       "      <td>7.589835</td>\n",
       "      <td>0.999574</td>\n",
       "    </tr>\n",
       "  </tbody>\n",
       "</table>\n",
       "</div>"
      ],
      "text/plain": [
       "   Degree  Training Error (Gradient)  Training Error (Stochastic)  \\\n",
       "0     0.0                     1.4017                       1.4017   \n",
       "1     1.0                     0.9127                       0.9127   \n",
       "2     2.0                     0.8673                       0.9084   \n",
       "3     3.0                     0.8537                       0.8773   \n",
       "4     4.0                     0.8513                       0.8694   \n",
       "5     5.0                     0.8445                       0.8708   \n",
       "6     6.0                     0.8383                       0.8713   \n",
       "7     7.0                     0.8328                       0.8700   \n",
       "8     8.0                     0.8284                       0.8694   \n",
       "9     9.0                     0.8252                       0.8684   \n",
       "\n",
       "   Testing Error (Gradient)  Testing Error (Stochastic)  \n",
       "0                  1.313192                    1.313154  \n",
       "1                  0.936744                    0.935517  \n",
       "2                  0.933474                    0.927099  \n",
       "3                  0.941261                    0.931893  \n",
       "4                  0.939848                    0.937026  \n",
       "5                  0.946456                    0.940419  \n",
       "6                  1.060232                    0.950534  \n",
       "7                  1.742837                    0.971377  \n",
       "8                  3.721790                    0.986965  \n",
       "9                  7.589835                    0.999574  "
      ]
     },
     "execution_count": 16,
     "metadata": {},
     "output_type": "execute_result"
    }
   ],
   "source": [
    "polynomial_regression_table = pd.DataFrame(polynomial_regression_result, columns = ['Degree', 'Training Error (Gradient)', 'Training Error (Stochastic)','Testing Error (Gradient)', 'Testing Error (Stochastic)'])\n",
    "polynomial_regression_table"
   ]
  },
  {
   "cell_type": "markdown",
   "metadata": {},
   "source": [
    "# REGULARIZATION"
   ]
  },
  {
   "cell_type": "code",
   "execution_count": 17,
   "metadata": {},
   "outputs": [],
   "source": [
    "# training_data = data.sample(frac = 0.8)\n",
    "# test_data = data.drop(training_data.index)\n",
    "# # np.random.shuffle(data)\n",
    "# # N = data.shape[0]\n",
    "\n",
    "# training_data = training_data.to_numpy()\n",
    "# test_data = test_data.to_numpy()\n",
    "\n",
    "# # N_train = ceil(N * 0.8)\n",
    "# # N_test = N - N_train\n",
    "\n",
    "# X_train = training_data[:, :2].T\n",
    "# Y_train = training_data[:,2].T\n",
    "\n",
    "# X_test = test_data[:,:2].T\n",
    "# Y_test = test_data[:,2].T\n",
    "\n",
    "# N_train = len(X_train[0])\n",
    "# N_test = len(X_test[0])\n",
    "\n",
    "# print(N_train, N_test)"
   ]
  },
  {
   "cell_type": "code",
   "execution_count": 18,
   "metadata": {},
   "outputs": [],
   "source": [
    "def regularized_loss_function(Y, X, W, lam, q):\n",
    "\n",
    "    loss1 = np.sum(1 / (2 * len(X[0])) * ((Y - W.T @ X) ** 2))\n",
    "    loss2 = np.sum(lam / 2 * (W ** q))\n",
    "\n",
    "    return loss1 + loss2"
   ]
  },
  {
   "cell_type": "code",
   "execution_count": 19,
   "metadata": {},
   "outputs": [],
   "source": [
    "def error_function(Y, X, W):\n",
    "    return np.sum(1 / (2 * len(X[0])) * ((Y - W.T @ X) ** 2))"
   ]
  },
  {
   "cell_type": "code",
   "execution_count": 20,
   "metadata": {},
   "outputs": [],
   "source": [
    "# l = lambda\n",
    "def regularized_gradient_descent(Y, X, W, q, alpha, l, iterations):\n",
    "    N = len(X[0])\n",
    "    M = len(X)\n",
    "    cost = np.zeros(iterations)\n",
    "\n",
    "    for i in range(iterations):\n",
    "\n",
    "        W = W - (alpha) * (((-1 / N) * (X @ (Y - W.T @ X).T)) + ((l / 2) * q * (W ** (q - 1))))\n",
    "        cost[i] = regularized_loss_function(Y, X, W, l, q)\n",
    "\n",
    "    return W, cost"
   ]
  },
  {
   "cell_type": "code",
   "execution_count": 21,
   "metadata": {},
   "outputs": [],
   "source": [
    "# def training_regularized_gradient_descent(Y, X, ):\n"
   ]
  }
 ],
 "metadata": {
  "kernelspec": {
   "display_name": "Python 3 (ipykernel)",
   "language": "python",
   "name": "python3"
  },
  "language_info": {
   "codemirror_mode": {
    "name": "ipython",
    "version": 3
   },
   "file_extension": ".py",
   "mimetype": "text/x-python",
   "name": "python",
   "nbconvert_exporter": "python",
   "pygments_lexer": "ipython3",
   "version": "3.8.10"
  },
  "vscode": {
   "interpreter": {
    "hash": "916dbcbb3f70747c44a77c7bcd40155683ae19c65e1c03b4aa3499c5328201f1"
   }
  }
 },
 "nbformat": 4,
 "nbformat_minor": 2
}
