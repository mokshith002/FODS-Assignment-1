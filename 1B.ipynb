{
 "cells": [
  {
   "cell_type": "markdown",
   "metadata": {},
   "source": [
    "# Assignment 1-B"
   ]
  },
  {
   "cell_type": "markdown",
   "metadata": {},
   "source": [
    "We have to fit various regression models to a dataset containing 547 samples, where the $i$-th sample is of the form:\n",
    "\n",
    "$$ (x_1^{(i)}, x_2^{(i)}, y^{(i)}) $$\n",
    "\n",
    "where $(x_1^{(i)}, x_2^{(i)})$ are the features and $y^{(i)}$ is the target value. "
   ]
  },
  {
   "cell_type": "code",
   "execution_count": 5,
   "metadata": {},
   "outputs": [],
   "source": [
    "import pandas as pd\n",
    "import numpy as np\n",
    "import random\n",
    "import matplotlib.pyplot as plt\n",
    "from math import ceil\n",
    "from mpl_toolkits import mplot3d"
   ]
  },
  {
   "cell_type": "code",
   "execution_count": 6,
   "metadata": {},
   "outputs": [],
   "source": [
    "# data = pd.read_csv(\"fods_1.csv\").to_numpy()\n",
    "data = pd.read_csv(\"fods_1.csv\")"
   ]
  },
  {
   "cell_type": "markdown",
   "metadata": {},
   "source": [
    "We create a 80-20 split of the dataset for training and testing respectively."
   ]
  },
  {
   "cell_type": "code",
   "execution_count": 7,
   "metadata": {},
   "outputs": [],
   "source": [
    "training_data = data.sample(frac = 0.8)\n",
    "test_data = data.drop(training_data.index)\n",
    "\n",
    "training_data = training_data.to_numpy()\n",
    "test_data = test_data.to_numpy()\n",
    "\n",
    "X_train = training_data[:, :2].T\n",
    "Y_train = training_data[:,2].T\n",
    "\n",
    "X_test = test_data[:,:2].T\n",
    "Y_test = test_data[:,2].T\n",
    "\n",
    "N_train = len(X_train[0])\n",
    "N_test = len(X_test[0])"
   ]
  },
  {
   "cell_type": "markdown",
   "metadata": {},
   "source": [
    "### Structure of matrices\n",
    "\n",
    "Our feature matrix is stored as:\n",
    "\n",
    "$$ X = \\begin{pmatrix}\n",
    "x_1^{(1)} & x_1^{(2)} & \\ldots & x_1^{(N)}\\\\\n",
    "x_2^{(1)} & x_2^{(2)} & \\ldots & x_2^{(N)}\n",
    "\\end{pmatrix}_{2 \\times N} $$\n",
    "\n",
    "and the target vector is stored as:\n",
    "\n",
    "$$ Y = \\begin{pmatrix}\n",
    "y^{(1)} & y^{(2)} & \\ldots & y^{(N)}\n",
    "\\end{pmatrix}_{1 \\times N}  $$\n",
    "\n"
   ]
  },
  {
   "cell_type": "markdown",
   "metadata": {},
   "source": [
    "# POLYNOMIAL REGRESSION"
   ]
  },
  {
   "cell_type": "markdown",
   "metadata": {},
   "source": [
    "### Our model\n",
    "\n",
    "$$ f_{\\textbf{w}}(\\textbf{x}^{(i)}) = \\sum_{j=0}^{M} w_jx_j^{(i)} $$\n",
    "\n",
    "where $x_0^{(i)} = 1$ for all training examples, $x_1^{(i)}$ and $x_2^{(i)}$ correspond to the features in dataset and the remaining $x_j^{(i)}$'s refer to higher degree terms found by multiplying $x_1^{(i)}$ and $x_2^{(i)}$."
   ]
  },
  {
   "cell_type": "markdown",
   "metadata": {},
   "source": [
    "### Normalization\n",
    "\n",
    "We calculate the mean ($\\mu$) and standard deviation ($\\sigma$) of the training data. We normalize training data as:\n",
    "\n",
    "$$ x_j^{(i)} = \\frac{x_j^{(i)} - \\mu_j}{\\sigma_j} $$\n",
    "\n",
    "We also store $\\mu$ and $\\sigma$ vectors to normalize the testing data using the same $\\mu$ and $\\sigma$."
   ]
  },
  {
   "cell_type": "code",
   "execution_count": 8,
   "metadata": {},
   "outputs": [],
   "source": [
    "def normalize_train(X):\n",
    "\n",
    "    mean = np.array(np.mean(X[1:, :], axis = 1)).reshape([len(X) - 1, 1])\n",
    "    std = np.array(np.std(X[1:, :], axis = 1)).reshape([len(X) - 1, 1])\n",
    "\n",
    "    mean = np.concatenate((np.zeros([1,1]), mean), axis = 0)\n",
    "    std = np.concatenate((np.ones([1,1]), std), axis = 0)\n",
    "\n",
    "    mean_cur = np.repeat(mean, len(X[0]), axis = 1)\n",
    "    std_cur = np.repeat(std, len(X[0]), axis = 1)\n",
    "\n",
    "    X = (X - mean_cur) / std_cur\n",
    "    return (X, mean, std)"
   ]
  },
  {
   "cell_type": "code",
   "execution_count": 9,
   "metadata": {},
   "outputs": [],
   "source": [
    "def normalize_test(X, mean, std):\n",
    "    mean_cur = np.repeat(mean, len(X[0]), axis = 1)\n",
    "    std_cur = np.repeat(std, len(X[0]), axis = 1)\n",
    "\n",
    "    X = (X - mean_cur) / std_cur\n",
    "    return X"
   ]
  },
  {
   "cell_type": "markdown",
   "metadata": {},
   "source": [
    "### Generating Feature Matrix\n",
    "\n",
    "We generate feature matrix for polynomial regression using nested for loops. We generate a matrix with all the polynomial features till degree 9, and later slice rows from this matrix to run polynomial regression for lower degrees.\n",
    "\n",
    "Our generated feature matrix is as follows:\n",
    "\n",
    "$$ \\begin{pmatrix}\n",
    "1 & 1 & \\ldots & 1\\\\\n",
    "x_1^{(1)} & x_1^{(2)} & \\ldots & x_1^{(N)}\\\\\n",
    "x_2^{(1)} & x_2^{(2)} & \\ldots & x_2^{(N)}\\\\\n",
    "(x_1^{(1)})^2 & (x_1^{(2)})^2 & \\ldots & (x_1^{(N)})^2\\\\\n",
    "(x_1^{(1)})(x_2^{(1)}) & (x_1^{(2)})(x_2^{(2)}) & \\ldots & (x_1^{(N)})(x_2^{(N)})\\\\\n",
    "(x_2^{(1)})^2 & (x_2^{(2)})^2 & \\ldots & (x_2^{(N)})^2\\\\\n",
    "\\vdots & \\vdots & & \\vdots\\\\\n",
    "(x_2^{(1)})^9 & (x_2^{(2)})^9 & \\ldots & (x_2^{(N)})^9\\\\\n",
    "\\end{pmatrix} $$"
   ]
  },
  {
   "cell_type": "code",
   "execution_count": 10,
   "metadata": {},
   "outputs": [],
   "source": [
    "def generate_feature_matrix(X, deg):\n",
    "\n",
    "    mat = np.ones([1,len(X[0])])\n",
    "    for i in range (1, deg + 1):\n",
    "        for j in range(i+1):\n",
    "            k = i - j\n",
    "            newRow = np.array((X[0]**k) * (X[1]**j)).reshape([1, len(X[0])])\n",
    "            mat = np.concatenate((mat, newRow), axis = 0)\n",
    "            \n",
    "    # return normalize(mat)\n",
    "    return mat"
   ]
  },
  {
   "cell_type": "markdown",
   "metadata": {},
   "source": [
    "### Cost Function\n",
    "\n",
    "We calculate cost function for regression as follows:\n",
    "$$ J(\\textbf{w}) = \\frac{1}{2N} \\sum_{i=1}^N (y^{(i)} - f_{\\textbf{w}}(\\textbf{x}^{(i)}))^2 $$"
   ]
  },
  {
   "cell_type": "code",
   "execution_count": 11,
   "metadata": {},
   "outputs": [],
   "source": [
    "def cost_function(Y, X, W):\n",
    "    return np.sum(1 / (2 * len(X[0])) * np.power((Y - W.T @ X), 2))"
   ]
  },
  {
   "cell_type": "markdown",
   "metadata": {},
   "source": [
    "### Gradient Descent\n",
    "\n",
    "We implement gradient descent by updating the weights for a fixed number of iterations:\n",
    "\n",
    "$$ w_j = w_j - \\alpha\\frac{\\partial J(\\textbf{w})}{\\partial w_j} $$\n",
    "\n",
    "where $\\alpha$ is the learning rate, and\n",
    "\n",
    "$$ \\frac{\\partial J(\\textbf{w})}{\\partial w_j} = \\frac{1}{N} \\sum_{i=1}^{N} (y^{(i)} - f_{\\textbf{w}}(\\textbf{x}^{(i)}))(-x_j^{(i)}) $$"
   ]
  },
  {
   "cell_type": "code",
   "execution_count": 12,
   "metadata": {},
   "outputs": [],
   "source": [
    "def gradient_descent(Y, X, W, alpha, iterations):\n",
    "    \n",
    "    N = len(X[0])\n",
    "    cost = np.zeros(iterations)\n",
    "\n",
    "    for i in range(iterations):\n",
    "        W = W - (alpha / N)*((-X) @ (Y - W.T @ X).T)\n",
    "        cost[i] = cost_function(Y, X, W)\n",
    "    \n",
    "    return W, cost"
   ]
  },
  {
   "cell_type": "markdown",
   "metadata": {},
   "source": [
    "### Stochastic Gradient Descent\n",
    "\n",
    "We implement stochastic gradient descent similarly, the cost and its gradient is calculated with respect to a randomly chosed sample (instead of all samples) on every iteration.\n",
    "\n",
    "Cost function for SGD:\n",
    "\n",
    "$$ J_{SGD}(\\textbf{w}) = \\frac{1}{2} (y^{(i)} - f_{\\textbf{w}}(\\textbf{x}^{(i)}))^2 $$\n",
    "\n",
    "Gradient of cost function for SGD:\n",
    "\n",
    "$$ \\frac{\\partial J_{SGD}(\\textbf{w})}{\\partial w_j} = (y^{(i)} - f_{\\textbf{w}}(\\textbf{x}^{(i)}))(-x_j^{(i)}) $$\n",
    "\n",
    "$i$ is chosen randomly from $(1, N)$ for every iteration."
   ]
  },
  {
   "cell_type": "code",
   "execution_count": 13,
   "metadata": {},
   "outputs": [],
   "source": [
    "def stochastic_descent(Y, X, W, alpha, iterations):\n",
    "\n",
    "    N = len(X[0])\n",
    "    M = len(X)\n",
    "    cost = np.zeros(iterations)\n",
    "\n",
    "    for i in range(iterations):\n",
    "\n",
    "        index = random.randint(0, N - 1)\n",
    "        Xi = X[:, index].reshape([M, 1])\n",
    "        Yi = Y[index].reshape([1, 1])\n",
    "\n",
    "        W = W - (alpha / N) * ((-Xi) @ (Yi - W.T @ Xi).T)\n",
    "        cost[i] = cost_function(Y, X, W)\n",
    "\n",
    "    return W, cost"
   ]
  },
  {
   "cell_type": "code",
   "execution_count": 14,
   "metadata": {},
   "outputs": [],
   "source": [
    "def training_polynomial_regression(Y, X, descent_type):\n",
    "\n",
    "    error_history = np.zeros([10, 1])\n",
    "    W_history = []\n",
    "\n",
    "    # plt.title(\"Polynomial regression\")\n",
    "    # plt.xlabel(\"Iterations\")\n",
    "    # plt.ylabel(\"Error\")\n",
    "\n",
    "    for i in range(10):\n",
    "\n",
    "        count = (i + 1) * (i + 2) / 2\n",
    "        count = int(count)\n",
    "\n",
    "        _X = X[:count, :]\n",
    "        W = np.zeros([count, 1])\n",
    "\n",
    "        iterations = 100000\n",
    "        # alpha_array = []\n",
    "        # final_cost_array = []\n",
    "\n",
    "        alpha = 0.04\n",
    "\n",
    "        # while(alpha >= 0.001):\n",
    "\n",
    "        #     W_grad, cost_grad = descent_type(Y, _X, W, alpha, iterations)\n",
    "        #     rounded_cost = float(\"{:.4f}\".format(cost_grad[len(cost_grad) - 1]))\n",
    "        #     alpha_array.append(alpha)\n",
    "        #     final_cost_array.append(rounded_cost)\n",
    "\n",
    "        #     alpha -= 1e-3\n",
    "        \n",
    "        # plt.plot(alpha_array, )\n",
    "\n",
    "        W_desc, cost_desc = descent_type(Y, _X, W, alpha, iterations)\n",
    "\n",
    "        grad_descent_graph = np.array([i for i in range (len(cost_desc))])\n",
    "\n",
    "        # title_string = \"Polynomial Regression for degree \" + str(i)\n",
    "        rounded_cost = float(\"{:.4f}\".format(cost_desc[len(cost_desc) - 1]))\n",
    "\n",
    "        error_history[i][0] = rounded_cost \n",
    "        # W_history[i] = W_history[i].reshape([1, len(W_desc)])\n",
    "        W_history.append(W_desc.reshape([len(W_desc)]))\n",
    "\n",
    "        plt.plot(grad_descent_graph, cost_desc)\n",
    "        \n",
    "        # plt.show()\n",
    "\n",
    "        # plt.plot(alpha_array, final_cost_array)\n",
    "        # plt.show()\n",
    "    \n",
    "    plt.show()\n",
    "\n",
    "    return error_history, W_history"
   ]
  },
  {
   "cell_type": "code",
   "execution_count": 15,
   "metadata": {},
   "outputs": [],
   "source": [
    "def testing_polynomial_regression(Y, X, W):\n",
    "\n",
    "    error_history = np.zeros([10, 1])\n",
    "\n",
    "    for i in range(10):\n",
    "\n",
    "        count = (i + 1) * (i + 2) / 2\n",
    "        count = int(count)\n",
    "        print(f\"{X.shape}\")\n",
    "        _X = X[:count, :]\n",
    "        \n",
    "        error_history[i][0] = cost_function(Y, _X, W[i])\n",
    "    \n",
    "    return error_history"
   ]
  },
  {
   "cell_type": "code",
   "execution_count": 16,
   "metadata": {},
   "outputs": [
    {
     "data": {
      "image/png": "[encoded data removed]",
      "text/plain": [
       "<Figure size 432x288 with 1 Axes>"
      ]
     },
     "metadata": {
      "needs_background": "light"
     },
     "output_type": "display_data"
    },
    {
     "data": {
      "image/png": "[encoded data removed]",
      "text/plain": [
       "<Figure size 432x288 with 1 Axes>"
      ]
     },
     "metadata": {
      "needs_background": "light"
     },
     "output_type": "display_data"
    }
   ],
   "source": [
    "X = generate_feature_matrix(X_train, 9)\n",
    "(X, mean_norm, std_norm) = normalize_train(X)\n",
    "training_error_gradient, W_gradient = training_polynomial_regression(Y_train, X, gradient_descent)\n",
    "training_error_stochastic, W_stochastic = training_polynomial_regression(Y_train, X, stochastic_descent)"
   ]
  },
  {
   "cell_type": "code",
   "execution_count": 17,
   "metadata": {},
   "outputs": [
    {
     "name": "stdout",
     "output_type": "stream",
     "text": [
      "(55, 109)\n",
      "(55, 109)\n",
      "(55, 109)\n",
      "(55, 109)\n",
      "(55, 109)\n",
      "(55, 109)\n",
      "(55, 109)\n",
      "(55, 109)\n",
      "(55, 109)\n",
      "(55, 109)\n"
     ]
    },
    {
     "data": {
      "image/png": "[encoded data removed]",
      "text/plain": [
       "<Figure size 432x288 with 1 Axes>"
      ]
     },
     "metadata": {
      "needs_background": "light"
     },
     "output_type": "display_data"
    }
   ],
   "source": [
    "X = generate_feature_matrix(X_test, 9)\n",
    "X = normalize_test(X, mean_norm, std_norm)\n",
    "\n",
    "W = [i.reshape([len(i), 1]) for i in W_gradient]\n",
    "testing_error_gradient = testing_polynomial_regression(Y_test, X, W)\n",
    "\n",
    "rounded_test_error = [float(\"{:.3f}\".format(testing_error_gradient[i][0])) for i in range(10)]\n",
    "\n",
    "plt.plot([i for i in range(10)], rounded_test_error, marker = 'o')\n",
    "plt.xticks([i for i  in range(10)])\n",
    "plt.xlabel(\"Degree\")\n",
    "plt.ylabel(\"Testing Error\")\n",
    "plt.title(\"Gradient Descent Error\")\n",
    "plt.show()"
   ]
  },
  {
   "cell_type": "code",
   "execution_count": 18,
   "metadata": {},
   "outputs": [
    {
     "name": "stdout",
     "output_type": "stream",
     "text": [
      "(55, 109)\n",
      "(55, 109)\n",
      "(55, 109)\n",
      "(55, 109)\n",
      "(55, 109)\n",
      "(55, 109)\n",
      "(55, 109)\n",
      "(55, 109)\n",
      "(55, 109)\n",
      "(55, 109)\n"
     ]
    },
    {
     "data": {
      "image/png": "[encoded data removed]",
      "text/plain": [
       "<Figure size 432x288 with 1 Axes>"
      ]
     },
     "metadata": {
      "needs_background": "light"
     },
     "output_type": "display_data"
    }
   ],
   "source": [
    "W = [i.reshape([len(i), 1]) for i in W_stochastic]\n",
    "testing_error_stochastic = testing_polynomial_regression(Y_test, X, W)\n",
    "\n",
    "rounded_test_error = [float(\"{:.3f}\".format(testing_error_stochastic[i][0])) for i in range(10)]\n",
    "\n",
    "plt.plot([i for i in range(10)], rounded_test_error, marker = 'o')\n",
    "plt.xticks([i for i  in range(10)])\n",
    "plt.xlabel(\"Degree\")\n",
    "plt.ylabel(\"Testing Error\")\n",
    "plt.title(\"Stochastic Descent Error\")\n",
    "plt.show()"
   ]
  },
  {
   "cell_type": "code",
   "execution_count": 19,
   "metadata": {},
   "outputs": [],
   "source": [
    "degrees = np.array([i for i in range(10)]).reshape([10,1])\n",
    "polynomial_regression_result = np.concatenate((degrees, training_error_gradient, training_error_stochastic, testing_error_gradient, testing_error_stochastic), axis = 1)"
   ]
  },
  {
   "cell_type": "code",
   "execution_count": 20,
   "metadata": {},
   "outputs": [
    {
     "data": {
      "text/html": [
       "<div>\n",
       "<style scoped>\n",
       "    .dataframe tbody tr th:only-of-type {\n",
       "        vertical-align: middle;\n",
       "    }\n",
       "\n",
       "    .dataframe tbody tr th {\n",
       "        vertical-align: top;\n",
       "    }\n",
       "\n",
       "    .dataframe thead th {\n",
       "        text-align: right;\n",
       "    }\n",
       "</style>\n",
       "<table border=\"1\" class=\"dataframe\">\n",
       "  <thead>\n",
       "    <tr style=\"text-align: right;\">\n",
       "      <th></th>\n",
       "      <th>Degree</th>\n",
       "      <th>Training Error (Gradient)</th>\n",
       "      <th>Training Error (Stochastic)</th>\n",
       "      <th>Testing Error (Gradient)</th>\n",
       "      <th>Testing Error (Stochastic)</th>\n",
       "    </tr>\n",
       "  </thead>\n",
       "  <tbody>\n",
       "    <tr>\n",
       "      <th>0</th>\n",
       "      <td>0.0</td>\n",
       "      <td>1.3630</td>\n",
       "      <td>1.3630</td>\n",
       "      <td>1.469577</td>\n",
       "      <td>1.470320</td>\n",
       "    </tr>\n",
       "    <tr>\n",
       "      <th>1</th>\n",
       "      <td>1.0</td>\n",
       "      <td>0.9041</td>\n",
       "      <td>0.9042</td>\n",
       "      <td>0.962661</td>\n",
       "      <td>0.962940</td>\n",
       "    </tr>\n",
       "    <tr>\n",
       "      <th>2</th>\n",
       "      <td>2.0</td>\n",
       "      <td>0.8665</td>\n",
       "      <td>0.8976</td>\n",
       "      <td>0.952782</td>\n",
       "      <td>0.958531</td>\n",
       "    </tr>\n",
       "    <tr>\n",
       "      <th>3</th>\n",
       "      <td>3.0</td>\n",
       "      <td>0.8554</td>\n",
       "      <td>0.8713</td>\n",
       "      <td>0.956786</td>\n",
       "      <td>0.944394</td>\n",
       "    </tr>\n",
       "    <tr>\n",
       "      <th>4</th>\n",
       "      <td>4.0</td>\n",
       "      <td>0.8493</td>\n",
       "      <td>0.8615</td>\n",
       "      <td>1.033915</td>\n",
       "      <td>0.959089</td>\n",
       "    </tr>\n",
       "    <tr>\n",
       "      <th>5</th>\n",
       "      <td>5.0</td>\n",
       "      <td>0.8444</td>\n",
       "      <td>0.8612</td>\n",
       "      <td>0.962274</td>\n",
       "      <td>0.975700</td>\n",
       "    </tr>\n",
       "    <tr>\n",
       "      <th>6</th>\n",
       "      <td>6.0</td>\n",
       "      <td>0.8395</td>\n",
       "      <td>0.8620</td>\n",
       "      <td>0.970139</td>\n",
       "      <td>0.988243</td>\n",
       "    </tr>\n",
       "    <tr>\n",
       "      <th>7</th>\n",
       "      <td>7.0</td>\n",
       "      <td>0.8376</td>\n",
       "      <td>0.8613</td>\n",
       "      <td>1.116760</td>\n",
       "      <td>0.983759</td>\n",
       "    </tr>\n",
       "    <tr>\n",
       "      <th>8</th>\n",
       "      <td>8.0</td>\n",
       "      <td>0.8358</td>\n",
       "      <td>0.8616</td>\n",
       "      <td>1.170669</td>\n",
       "      <td>0.991739</td>\n",
       "    </tr>\n",
       "    <tr>\n",
       "      <th>9</th>\n",
       "      <td>9.0</td>\n",
       "      <td>0.8338</td>\n",
       "      <td>0.8601</td>\n",
       "      <td>1.077129</td>\n",
       "      <td>0.980788</td>\n",
       "    </tr>\n",
       "  </tbody>\n",
       "</table>\n",
       "</div>"
      ],
      "text/plain": [
       "   Degree  Training Error (Gradient)  Training Error (Stochastic)  \\\n",
       "0     0.0                     1.3630                       1.3630   \n",
       "1     1.0                     0.9041                       0.9042   \n",
       "2     2.0                     0.8665                       0.8976   \n",
       "3     3.0                     0.8554                       0.8713   \n",
       "4     4.0                     0.8493                       0.8615   \n",
       "5     5.0                     0.8444                       0.8612   \n",
       "6     6.0                     0.8395                       0.8620   \n",
       "7     7.0                     0.8376                       0.8613   \n",
       "8     8.0                     0.8358                       0.8616   \n",
       "9     9.0                     0.8338                       0.8601   \n",
       "\n",
       "   Testing Error (Gradient)  Testing Error (Stochastic)  \n",
       "0                  1.469577                    1.470320  \n",
       "1                  0.962661                    0.962940  \n",
       "2                  0.952782                    0.958531  \n",
       "3                  0.956786                    0.944394  \n",
       "4                  1.033915                    0.959089  \n",
       "5                  0.962274                    0.975700  \n",
       "6                  0.970139                    0.988243  \n",
       "7                  1.116760                    0.983759  \n",
       "8                  1.170669                    0.991739  \n",
       "9                  1.077129                    0.980788  "
      ]
     },
     "execution_count": 20,
     "metadata": {},
     "output_type": "execute_result"
    }
   ],
   "source": [
    "polynomial_regression_table = pd.DataFrame(polynomial_regression_result, columns = ['Degree', 'Training Error (Gradient)', 'Training Error (Stochastic)','Testing Error (Gradient)', 'Testing Error (Stochastic)'])\n",
    "polynomial_regression_table"
   ]
  },
  {
   "cell_type": "markdown",
   "metadata": {},
   "source": [
    "# REGULARIZATION"
   ]
  },
  {
   "cell_type": "markdown",
   "metadata": {},
   "source": [
    "### Regularized Cost Function\n",
    "\n",
    "We calculate cost function for regularized linear regression as follows:\n",
    "\n",
    "$$ J_{reg}(\\textbf{w}) = \\frac{1}{2} \\sum_{i=1}^N (y^{(i)} - f_{\\textbf{w}}(\\textbf{x}^{(i)}))^2 + \\frac{\\lambda}{2} \\sum_{j=1}^M |w_j|^q $$\n",
    "\n",
    "The bias, $w_0$ is not regularized."
   ]
  },
  {
   "cell_type": "code",
   "execution_count": 21,
   "metadata": {},
   "outputs": [],
   "source": [
    "def regularized_cost_function(Y, X, W, lam, q):\n",
    "\n",
    "    cost1 = np.sum(1 / (2 * len(X[0])) * ((Y - W.T @ X) ** 2))\n",
    "    cost2 = np.sum(lam / 2 * (np.abs(W[1:]) ** q))\n",
    "\n",
    "    return cost1 + cost2"
   ]
  },
  {
   "cell_type": "code",
   "execution_count": 22,
   "metadata": {},
   "outputs": [],
   "source": [
    "def error_function(Y, X, W):\n",
    "    # print(f\"Y: {Y.shape}, X: {X.shape}, W: {W.shape}\")\n",
    "    return np.sum(1 / (2 * len(X[0])) * ((Y - W.T @ X) ** 2))"
   ]
  },
  {
   "cell_type": "markdown",
   "metadata": {},
   "source": [
    "### Regularized Linear Regression\n",
    "\n",
    "We implement regularized linear regression by updating the weights for a fixed number of iterations:\n",
    "\n",
    "$$ w_j = w_j - \\alpha\\frac{\\partial J_{reg}(\\textbf{w})}{\\partial w_j} $$\n",
    "\n",
    "where $\\alpha$ is the learning rate, and\n",
    "\n",
    "$$ \\frac{\\partial J_{reg}(\\textbf{w})}{\\partial w_j} = \\sum_{i=1}^{N} (y^{(i)} - f_{\\textbf{w}}(\\textbf{x}^{(i)}))(-x_j^{(i)}) + \\frac{\\lambda}{2} q|w_j|^{q-1} $$"
   ]
  },
  {
   "cell_type": "code",
   "execution_count": 23,
   "metadata": {},
   "outputs": [],
   "source": [
    "# l = lambda\n",
    "def regularized_gradient_descent(Y, X, W, q, alpha, l, iterations):\n",
    "    N = X.shape[1]\n",
    "    cost = np.zeros(iterations)\n",
    "    # print(f\"X: {X.shape}, N: {N}, Y: {Y.shape}, W: {W.shape}\")\n",
    "    for i in range(iterations):\n",
    "\n",
    "        W = W - (alpha) * (((-1 / N) * (X @ (Y - W.T @ X).T)) + ((l / 2) * q * (np.abs(W) ** (q - 1))))\n",
    "        cost[i] = regularized_cost_function(Y, X, W, l, q)\n",
    "\n",
    "    return W, cost"
   ]
  },
  {
   "cell_type": "code",
   "execution_count": 24,
   "metadata": {},
   "outputs": [],
   "source": [
    "X = np.concatenate((np.ones([1, len(X_train[0])]), X_train), axis = 0)\n",
    "Y = Y_train\n",
    "\n",
    "X_test = np.concatenate((np.ones([1, len(X_test[0])]), X_test), axis = 0)"
   ]
  },
  {
   "cell_type": "code",
   "execution_count": 25,
   "metadata": {},
   "outputs": [
    {
     "data": {
      "image/png": "[encoded data removed]",
      "text/plain": [
       "<Figure size 432x288 with 1 Axes>"
      ]
     },
     "metadata": {
      "needs_background": "light"
     },
     "output_type": "display_data"
    }
   ],
   "source": [
    "q_vec = [0.5, 1, 2, 4]\n",
    "lam_vec = np.linspace(0, 1, 5)\n",
    "alpha = 0.01\n",
    "iterations = 100000\n",
    "\n",
    "fig, ax = plt.subplots(1, 1)\n",
    "for i in range(4):\n",
    "    q = q_vec[i]\n",
    "    cost_vec_reg = []\n",
    "    for l in lam_vec:\n",
    "        W = np.ones([3, 1])\n",
    "        W, cost = regularized_gradient_descent(Y, X, W, q, alpha, l, iterations)\n",
    "        cost_vec_reg.append(error_function(Y_test, X_test, W))\n",
    "    ax.plot(lam_vec, cost_vec_reg, label=f\"Reg {q}\")\n",
    "\n",
    "ax.plot(lam_vec, np.ones(len(lam_vec)) * testing_error_gradient[1][0], label=f\"Non reg\")\n",
    "\n",
    "ax.legend()\n",
    "\n",
    "plt.show()"
   ]
  },
  {
   "cell_type": "code",
   "execution_count": 26,
   "metadata": {},
   "outputs": [],
   "source": [
    "def predict(x1, x2, degree):\n",
    "    X = []\n",
    "    for i in range(degree+1):\n",
    "        for j in range(i+1):\n",
    "            k = i - j\n",
    "            X.append(x1 ** j * x2 ** k)\n",
    "    X = np.array(X).reshape(-1, 1)\n",
    "    d = X.shape[0]\n",
    "    X = (X - mean_norm[:d]) / std_norm[:d]\n",
    "    return W_gradient[degree] @ X"
   ]
  },
  {
   "cell_type": "code",
   "execution_count": 27,
   "metadata": {},
   "outputs": [
    {
     "data": {
      "image/png": "[encoded data removed]",
      "text/plain": [
       "<Figure size 576x288 with 1 Axes>"
      ]
     },
     "metadata": {
      "needs_background": "light"
     },
     "output_type": "display_data"
    }
   ],
   "source": [
    "from matplotlib import cm\n",
    "\n",
    "fig = plt.figure(figsize=plt.figaspect(0.5))\n",
    "\n",
    "ax = fig.add_subplot(1, 2, 1, projection='3d')\n",
    "\n",
    "x1 = np.arange(-50, 50, 0.25)\n",
    "x2 = np.arange(-50, 50, 0.25)\n",
    "X1, X2 = np.meshgrid(x1, x2)\n",
    "Z = np.zeros(X1.shape)\n",
    "for i in range(Z.shape[0]):\n",
    "    for j in range(Z.shape[1]):\n",
    "        x1 = X1[i][j]\n",
    "        x2 = X2[i][j]\n",
    "        Z[i][j] = predict(x1, x2, 3)\n",
    "\n",
    "\n",
    "surf = ax.plot_surface(X1, X2, Z, cmap=cm.viridis)\n",
    "\n",
    "ax.set_xlabel(\"x1\")\n",
    "ax.set_ylabel(\"x2\")\n",
    "ax.set_zlabel(\"y(x1, x2)\")\n",
    "# fig.colorbar(surf, shrink=0.5, aspect=10)\n",
    "\n",
    "plt.show()"
   ]
  }
 ],
 "metadata": {
  "kernelspec": {
   "display_name": "Python 3.9.12 ('base')",
   "language": "python",
   "name": "python3"
  },
  "language_info": {
   "codemirror_mode": {
    "name": "ipython",
    "version": 3
   },
   "file_extension": ".py",
   "mimetype": "text/x-python",
   "name": "python",
   "nbconvert_exporter": "python",
   "pygments_lexer": "ipython3",
   "version": "3.9.12"
  },
  "vscode": {
   "interpreter": {
    "hash": "70733801d654680555e21495962fe8de4fe5c1acef5bb8ce12597725a80744f6"
   }
  }
 },
 "nbformat": 4,
 "nbformat_minor": 2
}
