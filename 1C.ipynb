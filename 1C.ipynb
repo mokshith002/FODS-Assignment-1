{
 "cells": [
  {
   "cell_type": "markdown",
   "metadata": {},
   "source": [
    "# 1C"
   ]
  },
  {
   "cell_type": "code",
   "execution_count": 91,
   "metadata": {},
   "outputs": [],
   "source": [
    "import pandas as pd\n",
    "import numpy as np\n",
    "import random\n",
    "import matplotlib.pyplot as plt\n",
    "from math import ceil\n",
    "import matplotlib.cm as cm\n",
    "from mpl_toolkits import mplot3d"
   ]
  },
  {
   "cell_type": "code",
   "execution_count": 92,
   "metadata": {},
   "outputs": [],
   "source": [
    "data = pd.read_csv(\"fods_1.csv\").to_numpy()\n",
    "X1 = data[:, :1]\n",
    "X2 = data[:, 1:2]\n",
    "Y = data[:, 2]\n",
    "X1 = X1.reshape([len(X1), 1])\n",
    "X2 = X2.reshape([len(X2), 1])\n",
    "Y = Y.reshape([len(Y), 1])"
   ]
  },
  {
   "cell_type": "code",
   "execution_count": 93,
   "metadata": {},
   "outputs": [],
   "source": [
    "def error_function(Y, X, W):\n",
    "    return "
   ]
  },
  {
   "cell_type": "code",
   "execution_count": 94,
   "metadata": {},
   "outputs": [],
   "source": [
    "delta = 0.025\n",
    "x = np.arange(-5.0, 5.0, delta)\n",
    "y = np.arange(-5.0, 5.0, delta)\n",
    "_X, _Y = np.meshgrid(x, y)\n",
    "Z1 = np.exp(-_X**2 - _Y**2)\n",
    "Z2 = np.exp(-(_X - 1)**2 - (_Y - 1)**2)\n",
    "Z = (Z1 - Z2) * 2"
   ]
  },
  {
   "cell_type": "code",
   "execution_count": 1,
   "metadata": {},
   "outputs": [
    {
     "ename": "NameError",
     "evalue": "name 'X1' is not defined",
     "output_type": "error",
     "traceback": [
      "\u001b[1;31m---------------------------------------------------------------------------\u001b[0m",
      "\u001b[1;31mNameError\u001b[0m                                 Traceback (most recent call last)",
      "Cell \u001b[1;32mIn [1], line 1\u001b[0m\n\u001b[1;32m----> 1\u001b[0m X1 \u001b[39m=\u001b[39m X1\u001b[39m.\u001b[39mreshape([\u001b[39mlen\u001b[39m(X1), \u001b[39m1\u001b[39m])\n\u001b[0;32m      2\u001b[0m X2 \u001b[39m=\u001b[39m X2\u001b[39m.\u001b[39mreshape([\u001b[39mlen\u001b[39m(X2), \u001b[39m1\u001b[39m])\n\u001b[0;32m      3\u001b[0m Y \u001b[39m=\u001b[39m Y\u001b[39m.\u001b[39mreshape([\u001b[39mlen\u001b[39m(Y), \u001b[39m1\u001b[39m])\n",
      "\u001b[1;31mNameError\u001b[0m: name 'X1' is not defined"
     ]
    }
   ],
   "source": [
    "w1_range = np.arange(-5.0, 5.0, delta)\n",
    "w2_range = np.arange(-5.0, 5.0, delta)\n",
    "w1, w2 = np.meshgrid(w1_range, w2_range)\n",
    "ax = plt.gca()\n",
    "ax.spines['top'].set_color('none')\n",
    "ax.spines['left'].set_position('zero')\n",
    "ax.spines['right'].set_color('none')\n",
    "ax.spines['bottom'].set_position('zero')\n",
    "\n",
    "w1_sq_coeff = (X1.T @ X1)[0][0]\n",
    "w2_sq_coeff = (X2.T @ X2)[0][0]\n",
    "w1w2_coeff = (X1.T @ X2)[0][0]\n",
    "w1_coeff = (X1.T @ Y)[0][0]\n",
    "w2_coeff = (X2.T @ Y)[0][0]\n",
    "const = (Y.T @ Y)[0][0]\n",
    "\n",
    "cost_func = w1_sq_coeff * w1 * w1 + w2_sq_coeff * w2 * w2 + w1w2_coeff  *w1 * w2 + w1_coeff * w1 + w2_coeff * w2 + const\n",
    "\n",
    "eqn = 1.4 - w1 ** 0.5 - w2 ** 0.5\n",
    "eqn1 = 0.1 - w1 - w2\n",
    "eqn2 = 0.035 - w1*w1 - w2*w2\n",
    "eqn3 = 0.052 - w1*w1*w1*w1 - w2*w2*w2*w2\n",
    "\n",
    "plt.contour(w1, w2, cost_func, 20, colors = 'g')\n",
    "plt.contour(w1, w2, eqn, [0])\n",
    "plt.contour(w1, w2, eqn1, [0], colors = 'c')\n",
    "plt.contour(w1, w2, eqn2, [0], colors = 'r')\n",
    "plt.contour(w1, w2, eqn3, [0], colors = 'b')\n",
    "\n",
    "\n",
    "\n",
    "plt.show()"
   ]
  }
 ],
 "metadata": {
  "kernelspec": {
   "display_name": "Python 3.10.6 64-bit",
   "language": "python",
   "name": "python3"
  },
  "language_info": {
   "codemirror_mode": {
    "name": "ipython",
    "version": 3
   },
   "file_extension": ".py",
   "mimetype": "text/x-python",
   "name": "python",
   "nbconvert_exporter": "python",
   "pygments_lexer": "ipython3",
   "version": "3.10.6"
  },
  "orig_nbformat": 4,
  "vscode": {
   "interpreter": {
    "hash": "823369631fcf644bbd649ba0e2c92005e1c2d80e62c7cdf7550d6c1d51ddcadf"
   }
  }
 },
 "nbformat": 4,
 "nbformat_minor": 2
}
